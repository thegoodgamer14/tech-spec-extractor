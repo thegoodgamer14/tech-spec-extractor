{
  "nbformat": 4,
  "nbformat_minor": 0,
  "metadata": {
    "colab": {
      "provenance": [],
      "authorship_tag": "ABX9TyNczo7gsNeg4QowCDNkgTQC",
      "include_colab_link": true
    },
    "kernelspec": {
      "name": "python3",
      "display_name": "Python 3"
    },
    "language_info": {
      "name": "python"
    }
  },
  "cells": [
    {
      "cell_type": "markdown",
      "metadata": {
        "id": "view-in-github",
        "colab_type": "text"
      },
      "source": [
        "<a href=\"https://colab.research.google.com/github/thegoodgamer14/tech-spec-extractor/blob/main/01_data_processing.ipynb\" target=\"_parent\"><img src=\"https://colab.research.google.com/assets/colab-badge.svg\" alt=\"Open In Colab\"/></a>"
      ]
    },
    {
      "cell_type": "code",
      "execution_count": 1,
      "metadata": {
        "id": "lG0rUyKIGehG",
        "colab": {
          "base_uri": "https://localhost:8080/"
        },
        "outputId": "1b25387d-9c1d-4b12-8a73-12531a9c0ea5"
      },
      "outputs": [
        {
          "output_type": "stream",
          "name": "stdout",
          "text": [
            "Cloning into 'tech-spec-extractor'...\n",
            "remote: Enumerating objects: 13, done.\u001b[K\n",
            "remote: Counting objects: 100% (13/13), done.\u001b[K\n",
            "remote: Compressing objects: 100% (10/10), done.\u001b[K\n",
            "remote: Total 13 (delta 2), reused 12 (delta 1), pack-reused 0 (from 0)\u001b[K\n",
            "Receiving objects: 100% (13/13), done.\n",
            "Resolving deltas: 100% (2/2), done.\n",
            "/content/tech-spec-extractor\n"
          ]
        }
      ],
      "source": [
        "!git clone https://github.com/thegoodgamer14/tech-spec-extractor.git\n",
        "%cd tech-spec-extractor"
      ]
    },
    {
      "cell_type": "code",
      "source": [
        "import sys\n",
        "sys.path.append('/content/drive/MyDrive/tech-spec-extractor')"
      ],
      "metadata": {
        "id": "vOwZ1rmR4H8Q"
      },
      "execution_count": 5,
      "outputs": []
    },
    {
      "cell_type": "code",
      "source": [
        "from google.colab import drive\n",
        "drive.mount('/content/drive')"
      ],
      "metadata": {
        "colab": {
          "base_uri": "https://localhost:8080/"
        },
        "id": "EnFpYweO4Vhy",
        "outputId": "77fa783d-4af0-4cbd-b558-4afb3041b990"
      },
      "execution_count": 7,
      "outputs": [
        {
          "output_type": "stream",
          "name": "stdout",
          "text": [
            "Mounted at /content/drive\n"
          ]
        }
      ]
    },
    {
      "cell_type": "code",
      "source": [
        "DATA_DIR = '/content/drive/MyDrive/tech-spec-extractor/data'\n",
        "MODELS_DIR = '/content/drive/MyDrive/tech-spec-extractor/models'\n",
        "RESULTS_DIR = '/content/drive/MyDrive/tech-spec-extractor/results'"
      ],
      "metadata": {
        "id": "poUtipG04ejP"
      },
      "execution_count": 8,
      "outputs": []
    }
  ]
}