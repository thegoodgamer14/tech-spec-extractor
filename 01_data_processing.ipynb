{
  "nbformat": 4,
  "nbformat_minor": 0,
  "metadata": {
    "colab": {
      "provenance": [],
      "authorship_tag": "ABX9TyNcavaEzOLLe96mCSvjbQNW",
      "include_colab_link": true
    },
    "kernelspec": {
      "name": "python3",
      "display_name": "Python 3"
    },
    "language_info": {
      "name": "python"
    }
  },
  "cells": [
    {
      "cell_type": "markdown",
      "metadata": {
        "id": "view-in-github",
        "colab_type": "text"
      },
      "source": [
        "<a href=\"https://colab.research.google.com/github/thegoodgamer14/tech-spec-extractor/blob/main/01_data_processing.ipynb\" target=\"_parent\"><img src=\"https://colab.research.google.com/assets/colab-badge.svg\" alt=\"Open In Colab\"/></a>"
      ]
    },
    {
      "cell_type": "code",
      "execution_count": 11,
      "metadata": {
        "id": "lG0rUyKIGehG",
        "colab": {
          "base_uri": "https://localhost:8080/"
        },
        "outputId": "032f548c-857b-48ff-e788-1d3a1cb2a003"
      },
      "outputs": [
        {
          "output_type": "stream",
          "name": "stdout",
          "text": [
            "Cloning into 'tech-spec-extractor'...\n",
            "remote: Enumerating objects: 16, done.\u001b[K\n",
            "remote: Counting objects: 100% (16/16), done.\u001b[K\n",
            "remote: Compressing objects: 100% (13/13), done.\u001b[K\n",
            "remote: Total 16 (delta 3), reused 11 (delta 1), pack-reused 0 (from 0)\u001b[K\n",
            "Receiving objects: 100% (16/16), done.\n",
            "Resolving deltas: 100% (3/3), done.\n",
            "/content/tech-spec-extractor/tech-spec-extractor/notebooks\n"
          ]
        }
      ],
      "source": [
        "!git clone https://github.com/thegoodgamer14/tech-spec-extractor.git\n",
        "%cd tech-spec-extractor/notebooks"
      ]
    },
    {
      "cell_type": "code",
      "source": [
        "import sys\n",
        "sys.path.append('/content/drive/MyDrive/tech-spec-extractor')"
      ],
      "metadata": {
        "id": "vOwZ1rmR4H8Q"
      },
      "execution_count": 5,
      "outputs": []
    },
    {
      "cell_type": "code",
      "source": [
        "from google.colab import drive\n",
        "drive.mount('/content/drive')"
      ],
      "metadata": {
        "colab": {
          "base_uri": "https://localhost:8080/"
        },
        "id": "EnFpYweO4Vhy",
        "outputId": "77fa783d-4af0-4cbd-b558-4afb3041b990"
      },
      "execution_count": 7,
      "outputs": [
        {
          "output_type": "stream",
          "name": "stdout",
          "text": [
            "Mounted at /content/drive\n"
          ]
        }
      ]
    },
    {
      "cell_type": "code",
      "source": [
        "DATA_DIR = '/content/drive/MyDrive/tech-spec-extractor/data'\n",
        "MODELS_DIR = '/content/drive/MyDrive/tech-spec-extractor/models'\n",
        "RESULTS_DIR = '/content/drive/MyDrive/tech-spec-extractor/results'"
      ],
      "metadata": {
        "id": "poUtipG04ejP"
      },
      "execution_count": 8,
      "outputs": []
    }
  ]
}