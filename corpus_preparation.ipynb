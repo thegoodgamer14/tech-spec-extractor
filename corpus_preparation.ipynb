{
  "nbformat": 4,
  "nbformat_minor": 0,
  "metadata": {
    "colab": {
      "provenance": [],
      "gpuType": "T4",
      "mount_file_id": "1DXnboU7-2qv1WPyByIfKkrX49aVGBqkt",
      "authorship_tag": "ABX9TyML+pRV8iUKCtgIRMXLMByv",
      "include_colab_link": true
    },
    "kernelspec": {
      "name": "python3",
      "display_name": "Python 3"
    },
    "language_info": {
      "name": "python"
    },
    "accelerator": "GPU"
  },
  "cells": [
    {
      "cell_type": "markdown",
      "metadata": {
        "id": "view-in-github",
        "colab_type": "text"
      },
      "source": [
        "<a href=\"https://colab.research.google.com/github/thegoodgamer14/tech-spec-extractor/blob/main/corpus_preparation.ipynb\" target=\"_parent\"><img src=\"https://colab.research.google.com/assets/colab-badge.svg\" alt=\"Open In Colab\"/></a>"
      ]
    },
    {
      "cell_type": "code",
      "execution_count": 1,
      "metadata": {
        "colab": {
          "base_uri": "https://localhost:8080/"
        },
        "id": "un_QLMYja-MH",
        "outputId": "91702460-b75d-4029-9530-1790c3fae8b6"
      },
      "outputs": [
        {
          "output_type": "stream",
          "name": "stdout",
          "text": [
            "Setting up...\n",
            "Collecting pypdf2\n",
            "  Downloading pypdf2-3.0.1-py3-none-any.whl.metadata (6.8 kB)\n",
            "Requirement already satisfied: tqdm in /usr/local/lib/python3.11/dist-packages (4.67.1)\n",
            "Downloading pypdf2-3.0.1-py3-none-any.whl (232 kB)\n",
            "\u001b[2K   \u001b[90m━━━━━━━━━━━━━━━━━━━━━━━━━━━━━━━━━━━━━━━━\u001b[0m \u001b[32m232.6/232.6 kB\u001b[0m \u001b[31m6.2 MB/s\u001b[0m eta \u001b[36m0:00:00\u001b[0m\n",
            "\u001b[?25hInstalling collected packages: pypdf2\n",
            "Successfully installed pypdf2-3.0.1\n"
          ]
        }
      ],
      "source": [
        "print(\"Setting up...\")\n",
        "!pip install pypdf2 tqdm"
      ]
    },
    {
      "cell_type": "code",
      "source": [
        "import os\n",
        "import re\n",
        "from google.colab import drive\n",
        "import PyPDF2\n",
        "import logging\n",
        "from tqdm.notebook import tqdm\n",
        "import time\n",
        "from pathlib import Path"
      ],
      "metadata": {
        "id": "pWf2AmfwbXyP"
      },
      "execution_count": 2,
      "outputs": []
    },
    {
      "cell_type": "code",
      "source": [
        "logging.basicConfig(level=logging.INFO, format='%(asctime)s - %(levelname)s - %(message)s')\n",
        "print(\"Setup complete.\")"
      ],
      "metadata": {
        "colab": {
          "base_uri": "https://localhost:8080/"
        },
        "id": "CItLufpebaZa",
        "outputId": "97da3bcc-f591-4c5c-aba2-f9652f69b4f1"
      },
      "execution_count": 3,
      "outputs": [
        {
          "output_type": "stream",
          "name": "stdout",
          "text": [
            "Setup complete.\n"
          ]
        }
      ]
    },
    {
      "cell_type": "code",
      "source": [
        "print(\"Configuring paths...\")\n",
        "# Base paths\n",
        "DRIVE_MOUNT_POINT = '/content/drive'\n",
        "DRIVE_OUTPUT_BASE = f'{DRIVE_MOUNT_POINT}/MyDrive/tech-spec-extractor/data/processed'\n",
        "\n",
        "# Source PDF Folders\n",
        "MECH_DOCS_FOLDER = f'{DRIVE_MOUNT_POINT}/MyDrive/tech-spec-extractor/data/raw/mechanical-docs'\n",
        "ELEC_DOCS_FOLDER = f'{DRIVE_MOUNT_POINT}/MyDrive/tech-spec-extractor/data/raw/electrical-docs'\n",
        "\n",
        "# Output Text Folders\n",
        "MECH_OUTPUT_FOLDER = f'{DRIVE_OUTPUT_BASE}/mechanical-text'\n",
        "ELEC_OUTPUT_FOLDER = f'{DRIVE_OUTPUT_BASE}/electrical-text'\n",
        "\n",
        "# Create output directories if they don't exist\n",
        "os.makedirs(MECH_OUTPUT_FOLDER, exist_ok=True)\n",
        "os.makedirs(ELEC_OUTPUT_FOLDER, exist_ok=True)\n",
        "\n",
        "print(f\"Drive Mount Point: {DRIVE_MOUNT_POINT}\")\n",
        "print(f\"Source PDF Folders: \\n  - {MECH_DOCS_FOLDER}\\n  - {ELEC_DOCS_FOLDER}\")\n",
        "print(f\"Output Text Folders: \\n  - {MECH_OUTPUT_FOLDER}\\n  - {ELEC_OUTPUT_FOLDER}\")\n",
        "print(\"Configuration complete.\")"
      ],
      "metadata": {
        "colab": {
          "base_uri": "https://localhost:8080/"
        },
        "id": "yGX5GkQtbgyE",
        "outputId": "4ac1e7c3-c38b-46a7-c73e-ea1943ee8b95"
      },
      "execution_count": 4,
      "outputs": [
        {
          "output_type": "stream",
          "name": "stdout",
          "text": [
            "Configuring paths...\n",
            "Drive Mount Point: /content/drive\n",
            "Source PDF Folders: \n",
            "  - /content/drive/MyDrive/tech-spec-extractor/data/raw/mechanical-docs\n",
            "  - /content/drive/MyDrive/tech-spec-extractor/data/raw/electrical-docs\n",
            "Output Text Folders: \n",
            "  - /content/drive/MyDrive/tech-spec-extractor/data/processed/mechanical-text\n",
            "  - /content/drive/MyDrive/tech-spec-extractor/data/processed/electrical-text\n",
            "Configuration complete.\n"
          ]
        }
      ]
    },
    {
      "cell_type": "code",
      "source": [
        "print(\"Mounting Google Drive...\")\n",
        "try:\n",
        "    # Clean up mount point if needed\n",
        "    if os.path.exists(DRIVE_MOUNT_POINT) and os.listdir(DRIVE_MOUNT_POINT):\n",
        "        print(f\"Mount point {DRIVE_MOUNT_POINT} already has files. Using standard mounting approach.\")\n",
        "        drive.mount(DRIVE_MOUNT_POINT)\n",
        "    else:\n",
        "        drive.mount(DRIVE_MOUNT_POINT)\n",
        "\n",
        "    logging.info(\"Google Drive mounted successfully.\")\n",
        "\n",
        "    # Verify paths exist\n",
        "    path_issues = False\n",
        "    if not os.path.isdir(MECH_DOCS_FOLDER):\n",
        "        logging.warning(f\"⚠️ Mechanical docs folder not found: {MECH_DOCS_FOLDER}\")\n",
        "        path_issues = True\n",
        "    if not os.path.isdir(ELEC_DOCS_FOLDER):\n",
        "        logging.warning(f\"⚠️ Electrical docs folder not found: {ELEC_DOCS_FOLDER}\")\n",
        "        path_issues = True\n",
        "\n",
        "    if path_issues:\n",
        "        logging.warning(\"Please check your folder paths and try again.\")\n",
        "    else:\n",
        "        logging.info(\"All source folders found.\")\n",
        "\n",
        "except Exception as e:\n",
        "    logging.error(f\"Error mounting Google Drive: {e}\")\n",
        "    raise e\n",
        "print(\"Drive mounted.\")"
      ],
      "metadata": {
        "colab": {
          "base_uri": "https://localhost:8080/"
        },
        "id": "0BOc_QhtcHBW",
        "outputId": "f02c3935-f348-4f05-f0eb-55a13b47c143"
      },
      "execution_count": 5,
      "outputs": [
        {
          "output_type": "stream",
          "name": "stdout",
          "text": [
            "Mounting Google Drive...\n",
            "Mount point /content/drive already has files. Using standard mounting approach.\n",
            "Drive already mounted at /content/drive; to attempt to forcibly remount, call drive.mount(\"/content/drive\", force_remount=True).\n",
            "Drive mounted.\n"
          ]
        }
      ]
    },
    {
      "cell_type": "code",
      "source": [
        "print(\"Defining PDF extraction functions...\")\n",
        "\n",
        "def clean_text(text):\n",
        "    \"\"\"Performs advanced text cleaning on extracted PDF text.\"\"\"\n",
        "    # Replace common PDF artifacts\n",
        "    text = re.sub(r'(\\w+)-\\s+(\\w+)', r'\\1\\2', text)  # Fix hyphenated words across lines\n",
        "\n",
        "    # Normalize whitespace\n",
        "    text = re.sub(r'\\s+', ' ', text)\n",
        "\n",
        "    # Remove page numbers (common formats)\n",
        "    text = re.sub(r'\\b\\d+\\s+of\\s+\\d+\\b', '', text)\n",
        "    text = re.sub(r'^\\s*\\d+\\s*$', '', text, flags=re.MULTILINE)\n",
        "\n",
        "    # Remove headers/footers (simplified approach)\n",
        "    text = re.sub(r'^\\s*.{0,30}(confidential|proprietary|all rights reserved).{0,30}$', '',\n",
        "                 text, flags=re.MULTILINE|re.IGNORECASE)\n",
        "\n",
        "    # Fix common measurement units that might get broken\n",
        "    text = re.sub(r'(\\d+)\\s+([kKmMgG]?[WwVvAa])', r'\\1\\2', text)  # Fix \"10 kW\" -> \"10kW\"\n",
        "\n",
        "    # Remove extra spaces\n",
        "    text = re.sub(r'\\s+', ' ', text).strip()\n",
        "\n",
        "    return text\n"
      ],
      "metadata": {
        "colab": {
          "base_uri": "https://localhost:8080/"
        },
        "id": "JvpmZJqKcMCF",
        "outputId": "9e003244-6e48-45e9-8fe6-cef38e8d7da9"
      },
      "execution_count": 6,
      "outputs": [
        {
          "output_type": "stream",
          "name": "stdout",
          "text": [
            "Defining PDF extraction functions...\n"
          ]
        }
      ]
    },
    {
      "cell_type": "code",
      "source": [
        "def segment_text(text):\n",
        "    \"\"\"Segments text into meaningful paragraphs.\"\"\"\n",
        "    # Split by periods followed by spaces and newlines, preserving the periods\n",
        "    segments = []\n",
        "\n",
        "    # First pass: split by paragraph markers (multiple newlines)\n",
        "    paragraphs = re.split(r'\\n\\s*\\n', text)\n",
        "\n",
        "    for paragraph in paragraphs:\n",
        "        if len(paragraph.strip()) > 0:\n",
        "            # Clean paragraph\n",
        "            paragraph = paragraph.strip()\n",
        "            paragraph = re.sub(r'\\s+', ' ', paragraph)\n",
        "\n",
        "            # Skip very short segments (likely headers or artifacts)\n",
        "            if len(paragraph.split()) >= 5:\n",
        "                segments.append(paragraph)\n",
        "\n",
        "    return segments"
      ],
      "metadata": {
        "id": "ePY9nQkicQBE"
      },
      "execution_count": 7,
      "outputs": []
    },
    {
      "cell_type": "code",
      "source": [
        "def extract_text_from_pdf(pdf_path):\n",
        "    \"\"\"Extracts text from a single PDF file using PyPDF2.\"\"\"\n",
        "    all_text = \"\"\n",
        "    page_texts = []\n",
        "\n",
        "    try:\n",
        "        with open(pdf_path, 'rb') as file:\n",
        "            reader = PyPDF2.PdfReader(file)\n",
        "            num_pages = len(reader.pages)\n",
        "\n",
        "            for page_num in range(num_pages):\n",
        "                try:\n",
        "                    page = reader.pages[page_num]\n",
        "                    page_text = page.extract_text()\n",
        "\n",
        "                    if page_text:  # Check if text extraction returned something\n",
        "                        page_texts.append(page_text)\n",
        "                except Exception as e:\n",
        "                    logging.warning(f\"Error extracting page {page_num}: {e}\")\n",
        "\n",
        "            # Process each page's text\n",
        "            if page_texts:\n",
        "                all_text = \"\\n\\n\".join(page_texts)\n",
        "                all_text = clean_text(all_text)\n",
        "\n",
        "    except FileNotFoundError:\n",
        "        logging.error(f\"PDF not found: {pdf_path}\")\n",
        "    except PyPDF2.errors.PdfReadError as pdf_err:\n",
        "        logging.warning(f\"PyPDF2 error reading {os.path.basename(pdf_path)}: {pdf_err}. Skipping file.\")\n",
        "    except Exception as e:\n",
        "        logging.warning(f\"Could not read PDF {os.path.basename(pdf_path)}: {e}. Skipping file.\")\n",
        "\n",
        "    return all_text"
      ],
      "metadata": {
        "id": "fUOSfAnqcUEL"
      },
      "execution_count": 8,
      "outputs": []
    },
    {
      "cell_type": "code",
      "source": [
        "def process_pdf_folder(folder_path, output_folder):\n",
        "    \"\"\"Processes all PDFs in a folder, saving each to a separate text file.\"\"\"\n",
        "\n",
        "    # Get list of PDF files\n",
        "    pdf_files = [f for f in os.listdir(folder_path) if f.lower().endswith('.pdf')]\n",
        "    successful_extractions = 0\n",
        "    failed_extractions = 0\n",
        "    total_segments = 0\n",
        "\n",
        "    if not pdf_files:\n",
        "        logging.warning(f\"No PDF files found in {folder_path}\")\n",
        "        return successful_extractions, failed_extractions, total_segments\n",
        "\n",
        "    logging.info(f\"Processing {len(pdf_files)} PDFs in: {folder_path}\")\n",
        "\n",
        "    # Process each PDF file with progress bar\n",
        "    for filename in tqdm(pdf_files, desc=\"Extracting PDFs\"):\n",
        "        pdf_path = os.path.join(folder_path, filename)\n",
        "        base_name = os.path.splitext(filename)[0]\n",
        "        output_path = os.path.join(output_folder, f\"{base_name}.txt\")\n",
        "\n",
        "        # Extract text from PDF\n",
        "        doc_text = extract_text_from_pdf(pdf_path)\n",
        "\n",
        "        # Check if substantial text was extracted\n",
        "        if doc_text and len(doc_text.split()) > 10:\n",
        "            # Segment the text\n",
        "            segments = segment_text(doc_text)\n",
        "            total_segments += len(segments)\n",
        "\n",
        "            # Write segments to file\n",
        "            try:\n",
        "                with open(output_path, 'w', encoding='utf-8') as f:\n",
        "                    f.write(\"\\n\\n\".join(segments))\n",
        "                successful_extractions += 1\n",
        "            except Exception as e:\n",
        "                logging.error(f\"Error saving text from {filename}: {e}\")\n",
        "                failed_extractions += 1\n",
        "        else:\n",
        "            logging.warning(f\"Minimal text extracted from {filename}. Skipping.\")\n",
        "            failed_extractions += 1\n",
        "\n",
        "    return successful_extractions, failed_extractions, total_segments\n",
        "\n",
        "print(\"PDF extraction functions defined.\")"
      ],
      "metadata": {
        "colab": {
          "base_uri": "https://localhost:8080/"
        },
        "id": "_eopPR8-cU5P",
        "outputId": "3be11c1a-18c0-4456-d716-54fe85b17920"
      },
      "execution_count": 9,
      "outputs": [
        {
          "output_type": "stream",
          "name": "stdout",
          "text": [
            "PDF extraction functions defined.\n"
          ]
        }
      ]
    },
    {
      "cell_type": "code",
      "source": [
        "print(\"\\n=== Starting PDF text extraction process ===\\n\")\n",
        "\n",
        "# Statistics tracking\n",
        "start_time = time.time()\n",
        "stats = {\n",
        "    'mechanical': {'success': 0, 'failed': 0, 'segments': 0},\n",
        "    'electrical': {'success': 0, 'failed': 0, 'segments': 0}\n",
        "}\n",
        "\n",
        "try:\n",
        "    # Process mechanical documents\n",
        "    print(\"\\n--- Processing Mechanical Documents ---\")\n",
        "    stats['mechanical']['success'], stats['mechanical']['failed'], stats['mechanical']['segments'] = process_pdf_folder(\n",
        "        MECH_DOCS_FOLDER, MECH_OUTPUT_FOLDER\n",
        "    )\n",
        "\n",
        "    # Process electrical documents\n",
        "    print(\"\\n--- Processing Electrical Documents ---\")\n",
        "    stats['electrical']['success'], stats['electrical']['failed'], stats['electrical']['segments'] = process_pdf_folder(\n",
        "        ELEC_DOCS_FOLDER, ELEC_OUTPUT_FOLDER\n",
        "    )\n",
        "\n",
        "    # Calculate total processing time\n",
        "    total_time = time.time() - start_time\n",
        "\n",
        "except Exception as e:\n",
        "    logging.error(f\"An error occurred during extraction: {e}\")\n",
        "    raise e"
      ],
      "metadata": {
        "id": "2lxYK5lucXlW"
      },
      "execution_count": null,
      "outputs": []
    },
    {
      "cell_type": "code",
      "source": [
        "print(\"\\n=== Extraction Results ===\\n\")\n",
        "\n",
        "# Count number of text files generated\n",
        "mech_text_files = len([f for f in os.listdir(MECH_OUTPUT_FOLDER) if f.endswith('.txt')])\n",
        "elec_text_files = len([f for f in os.listdir(ELEC_OUTPUT_FOLDER) if f.endswith('.txt')])\n",
        "\n",
        "# Report statistics\n",
        "print(f\"Processing completed in {total_time:.2f} seconds\")\n",
        "print(\"\\nMechanical Documents:\")\n",
        "print(f\"  - Successful extractions: {stats['mechanical']['success']}\")\n",
        "print(f\"  - Failed extractions: {stats['mechanical']['failed']}\")\n",
        "print(f\"  - Total text segments extracted: {stats['mechanical']['segments']}\")\n",
        "print(f\"  - Text files generated: {mech_text_files}\")\n",
        "\n",
        "print(\"\\nElectrical Documents:\")\n",
        "print(f\"  - Successful extractions: {stats['electrical']['success']}\")\n",
        "print(f\"  - Failed extractions: {stats['electrical']['failed']}\")\n",
        "print(f\"  - Total text segments extracted: {stats['electrical']['segments']}\")\n",
        "print(f\"  - Text files generated: {elec_text_files}\")\n",
        "\n",
        "print(\"\\nTotal:\")\n",
        "total_success = stats['mechanical']['success'] + stats['electrical']['success']\n",
        "total_failed = stats['mechanical']['failed'] + stats['electrical']['failed']\n",
        "total_segments = stats['mechanical']['segments'] + stats['electrical']['segments']\n",
        "total_files = mech_text_files + elec_text_files\n",
        "\n",
        "print(f\"  - Successful extractions: {total_success}\")\n",
        "print(f\"  - Failed extractions: {total_failed}\")\n",
        "print(f\"  - Total text segments extracted: {total_segments}\")\n",
        "print(f\"  - Total text files generated: {total_files}\")"
      ],
      "metadata": {
        "colab": {
          "base_uri": "https://localhost:8080/"
        },
        "id": "dCQhdYfw7Oml",
        "outputId": "e7cf5070-9712-4c27-8cc3-63255564cf01"
      },
      "execution_count": 11,
      "outputs": [
        {
          "output_type": "stream",
          "name": "stdout",
          "text": [
            "\n",
            "=== Extraction Results ===\n",
            "\n",
            "Processing completed in 313.15 seconds\n",
            "\n",
            "Mechanical Documents:\n",
            "  - Successful extractions: 30\n",
            "  - Failed extractions: 0\n",
            "  - Total text segments extracted: 30\n",
            "  - Text files generated: 30\n",
            "\n",
            "Electrical Documents:\n",
            "  - Successful extractions: 27\n",
            "  - Failed extractions: 3\n",
            "  - Total text segments extracted: 27\n",
            "  - Text files generated: 27\n",
            "\n",
            "Total:\n",
            "  - Successful extractions: 57\n",
            "  - Failed extractions: 3\n",
            "  - Total text segments extracted: 57\n",
            "  - Total text files generated: 57\n"
          ]
        }
      ]
    },
    {
      "cell_type": "code",
      "source": [
        "print(\"\\n=== Sample Content Verification ===\\n\")\n",
        "\n",
        "def check_text_sample(folder, count=3, max_lines=5):\n",
        "    \"\"\"Checks and displays samples from text files\"\"\"\n",
        "    text_files = [f for f in os.listdir(folder) if f.endswith('.txt')]\n",
        "\n",
        "    if not text_files:\n",
        "        print(f\"No text files found in {folder}\")\n",
        "        return\n",
        "\n",
        "    # Select up to 'count' files\n",
        "    sample_files = text_files[:min(count, len(text_files))]\n",
        "\n",
        "    for sample_file in sample_files:\n",
        "        file_path = os.path.join(folder, sample_file)\n",
        "        try:\n",
        "            with open(file_path, 'r', encoding='utf-8') as f:\n",
        "                lines = f.read().split('\\n')\n",
        "\n",
        "            # Get file size\n",
        "            file_size = os.path.getsize(file_path) / 1024  # in KB\n",
        "\n",
        "            print(f\"File: {sample_file} ({file_size:.2f} KB)\")\n",
        "            print(f\"First {min(max_lines, len(lines))} lines:\")\n",
        "            for i, line in enumerate(lines[:max_lines]):\n",
        "                print(f\"  {i+1}: {line[:100]}{'...' if len(line) > 100 else ''}\")\n",
        "            print()\n",
        "        except Exception as e:\n",
        "            print(f\"Error reading {sample_file}: {e}\")\n",
        "\n",
        "print(\"Sample Mechanical Text Files:\")\n",
        "check_text_sample(MECH_OUTPUT_FOLDER)\n",
        "\n",
        "print(\"\\nSample Electrical Text Files:\")\n",
        "check_text_sample(ELEC_OUTPUT_FOLDER)\n",
        "\n",
        "print(\"\\n--- PDF Text Extraction Complete ---\")\n",
        "print(f\"Mechanical texts saved to: {MECH_OUTPUT_FOLDER}\")\n",
        "print(f\"Electrical texts saved to: {ELEC_OUTPUT_FOLDER}\")"
      ],
      "metadata": {
        "colab": {
          "base_uri": "https://localhost:8080/"
        },
        "id": "LdL5SS8w7T0_",
        "outputId": "3d970898-47c4-4040-a82b-3411b3385f60"
      },
      "execution_count": 12,
      "outputs": [
        {
          "output_type": "stream",
          "name": "stdout",
          "text": [
            "\n",
            "=== Sample Content Verification ===\n",
            "\n",
            "Sample Mechanical Text Files:\n",
            "File: General-Mechanical-Specification-Oct-15eeae.txt (68.16 KB)\n",
            "First 1 lines:\n",
            "  1: GENERAL MECHANICAL INSTALLATION SPECIFICATION Revised: October 2015 General Mechanical Installation ...\n",
            "\n",
            "File: Annex 8 - Service specifications_3885-MECH SPECS-T1-2023.01.20.txt (78.47 KB)\n",
            "First 1 lines:\n",
            "  1: ■ website: www.edisonconsultants.com ■ office email: info@edisonconsultants.com ■ project manager: e...\n",
            "\n",
            "File: T__proc_notices_notices_075_k_notice_doc_71173_343055755.txt (168.54 KB)\n",
            "First 1 lines:\n",
            "  1: Mechanical Specification ANNEX VIII Page VOLUME 2 TECHNICAL SPECIFICATIONS PART 2 MECHANICAL ENGINEE...\n",
            "\n",
            "\n",
            "Sample Electrical Text Files:\n",
            "File: ELECTRICAL-SEW2012.txt (155.91 KB)\n",
            "First 1 lines:\n",
            "  1: MINISTRY OF WORKS AND HUMAN SETTLEMENT DEPARTMENT OF ENGINEERING SERVICES SPECIFICATION FOR ELEC TRI...\n",
            "\n",
            "File: Electrical Engineering Design Guide (1).txt (172.80 KB)\n",
            "First 1 lines:\n",
            "  1: ADNOC Classification: Public THE CONTENTS OF THIS DOCUMENT ARE PROPRIETARY. ADNOC GROUP PROJECTS AND...\n",
            "\n",
            "File: 2-3-standard-electrical-specification_tcm63-405926.txt (141.50 KB)\n",
            "First 1 lines:\n",
            "  1: \\\\corp\\data\\PS2\\Data_3 \\PS\\Capita_Property \\PROJECTS \\Lifts Albion, Shirley and Redbridge Towers \\Te...\n",
            "\n",
            "\n",
            "--- PDF Text Extraction Complete ---\n",
            "Mechanical texts saved to: /content/drive/MyDrive/tech-spec-extractor/data/processed/mechanical-text\n",
            "Electrical texts saved to: /content/drive/MyDrive/tech-spec-extractor/data/processed/electrical-text\n"
          ]
        }
      ]
    }
  ]
}